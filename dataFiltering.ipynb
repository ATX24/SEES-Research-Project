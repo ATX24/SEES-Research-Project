{
  "cells": [
    {
      "cell_type": "markdown",
      "metadata": {
        "id": "view-in-github",
        "colab_type": "text"
      },
      "source": [
        "<a href=\"https://colab.research.google.com/github/ATX24/SEES-Research-Project/blob/main/dataFiltering.ipynb\" target=\"_parent\"><img src=\"https://colab.research.google.com/assets/colab-badge.svg\" alt=\"Open In Colab\"/></a>"
      ]
    },
    {
      "cell_type": "code",
      "execution_count": null,
      "metadata": {
        "id": "M7ENICxUlQra"
      },
      "outputs": [],
      "source": [
        "import numpy as np\n",
        "import requests\n",
        "\n",
        "\n",
        "FileName = '/content/drive/MyDrive/SEES 2022 /Datasets/GLOBEMeasurementData-17794.csv'\n",
        "\n",
        "with open(FileName) as data:\n",
        "  array = np.loadtxt(data, dtype='str',  delimiter=\",\")\n",
        "\n",
        "LabeledData = []\n",
        "\n",
        "\n",
        "for row in array:\n",
        "  for cell in row:\n",
        "    genus = row[0]\n",
        "    links = row[1]\n",
        "    if genus == '':\n",
        "      break\n",
        "\n",
        "    elif links == '' or links == 'rejected':\n",
        "      break\n",
        "\n",
        "    else:\n",
        "      LabeledData.append(genus)\n",
        "      image = links.split(';')\n",
        "      #print(len(image))\n",
        "      for i in range(len(image)):\n",
        "          url = image[i]\n",
        "          if (\"https\" in url): \n",
        "            filename = url.split('/')[-2]\n",
        "            #print(image)\n",
        "            r = requests.get(url, allow_redirects=True)\n",
        "            open(\"/content/drive/MyDrive/SEES 2022 /Datasets/Images/\" + filename + \"-\" + genus + '.jpg' , 'wb').write(r.content)\n"
      ]
    },
    {
      "cell_type": "code",
      "source": [
        "import numpy as np \n",
        "import requests\n",
        "import os\n",
        "import shutil\n",
        "\n",
        "Path = '/content/drive/MyDrive/SEES 2022 /Datasets/Images/'\n",
        "\n",
        "names = os.listdir(Path)\n",
        "\n",
        "for x in names:\n",
        "  genus = x.split('-')[1]\n",
        "  if genus == 'Aedes.jpg':\n",
        "    shutil.move(Path + x, \"/content/drive/MyDrive/SEES 2022 /Datasets/Aedes Images/\")\n",
        "\n",
        "  elif genus == 'Anopheles.jpg':\n",
        "    shutil.move(Path + x, \"/content/drive/MyDrive/SEES 2022 /Datasets/Anopheles Images/\")\n",
        "\n",
        "  elif genus == 'Culex.jpg':\n",
        "    shutil.move(Path + x, \"/content/drive/MyDrive/SEES 2022 /Datasets/Culex Images/\")"
      ],
      "metadata": {
        "id": "s4UBa_g8ezd-"
      },
      "execution_count": null,
      "outputs": []
    },
    {
      "cell_type": "code",
      "source": [
        "import os\n",
        "\n",
        "dir_path = r'/content/drive/MyDrive/SEES 2022 /Datasets/Aedes Images/'\n",
        "print(len([entry for entry in os.listdir(dir_path) if os.path.isfile(os.path.join(dir_path, entry))]))\n",
        "\n",
        "dir_path1 = r'/content/drive/MyDrive/SEES 2022 /Datasets/Anopheles Images/'\n",
        "print(len([entry for entry in os.listdir(dir_path1) if os.path.isfile(os.path.join(dir_path1, entry))]))\n",
        "\n",
        "dir_path2 = r'/content/drive/MyDrive/SEES 2022 /Datasets/Culex Images/'\n",
        "print(len([entry for entry in os.listdir(dir_path2) if os.path.isfile(os.path.join(dir_path2, entry))]))\n"
      ],
      "metadata": {
        "id": "GMgVhf8eH_ba",
        "colab": {
          "base_uri": "https://localhost:8080/"
        },
        "outputId": "0efb6566-3327-45fc-bc10-e43978c0bda8"
      },
      "execution_count": null,
      "outputs": [
        {
          "output_type": "stream",
          "name": "stdout",
          "text": [
            "2880\n",
            "1926\n",
            "1760\n"
          ]
        }
      ]
    },
    {
      "cell_type": "code",
      "execution_count": null,
      "metadata": {
        "id": "Ylerv3GZlRf6",
        "colab": {
          "base_uri": "https://localhost:8080/"
        },
        "outputId": "61985877-92ee-48f3-b182-a63635e6dfa0"
      },
      "outputs": [
        {
          "output_type": "stream",
          "name": "stdout",
          "text": [
            "Mounted at /content/drive\n"
          ]
        }
      ],
      "source": [
        "from google.colab import drive\n",
        "drive.mount('/content/drive')"
      ]
    }
  ],
  "metadata": {
    "colab": {
      "collapsed_sections": [],
      "name": "dataFiltering.ipynb",
      "provenance": [],
      "include_colab_link": true
    },
    "kernelspec": {
      "display_name": "Python 3",
      "name": "python3"
    },
    "language_info": {
      "name": "python"
    }
  },
  "nbformat": 4,
  "nbformat_minor": 0
}